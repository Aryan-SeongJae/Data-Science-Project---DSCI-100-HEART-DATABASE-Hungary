{
 "cells": [
  {
   "cell_type": "markdown",
   "id": "2dc2be9a-5e70-476a-a008-64157c0e5802",
   "metadata": {},
   "source": [
    "**GROUP PROJECT PROPOSAL**\n"
   ]
  },
  {
   "cell_type": "markdown",
   "id": "cd763147-fda4-4f2a-a7c6-6e7084e2904d",
   "metadata": {},
   "source": [
    "# **USING AGE, HEARTRATE, AND CHOLESTROL TO CLASSIFY HEART PATIENTS IN CLEVELAND**\n",
    "#### ARYAN JAIN, KATIE LIANG, MADILYN PORTAS, VIBHAV"
   ]
  },
  {
   "cell_type": "markdown",
   "id": "901dbfde-4fc0-450c-9453-4b19b3d18a69",
   "metadata": {},
   "source": [
    "### The term cadio vascular disease "
   ]
  }
 ],
 "metadata": {
  "kernelspec": {
   "display_name": "R",
   "language": "R",
   "name": "ir"
  },
  "language_info": {
   "codemirror_mode": "r",
   "file_extension": ".r",
   "mimetype": "text/x-r-source",
   "name": "R",
   "pygments_lexer": "r",
   "version": "4.2.2"
  },
  "widgets": {
   "application/vnd.jupyter.widget-state+json": {
    "state": {},
    "version_major": 2,
    "version_minor": 0
   }
  }
 },
 "nbformat": 4,
 "nbformat_minor": 5
}
