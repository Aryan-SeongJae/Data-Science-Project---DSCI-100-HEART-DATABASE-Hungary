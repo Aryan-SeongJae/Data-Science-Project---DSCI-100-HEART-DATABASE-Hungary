{
 "cells": [
  {
   "cell_type": "markdown",
   "id": "2dc2be9a-5e70-476a-a008-64157c0e5802",
   "metadata": {},
   "source": [
    "**GROUP PROJECT PROPOSAL**\n"
   ]
  },
  {
   "cell_type": "markdown",
   "id": "cd763147-fda4-4f2a-a7c6-6e7084e2904d",
   "metadata": {},
   "source": [
    "# **Predicting Heart Disease Using DATA SCIENCE**\n",
    "#### ARYAN JAIN, KATIE LIANG, MADILYN PORTAS, VIBHAV"
   ]
  },
  {
   "cell_type": "markdown",
   "id": "901dbfde-4fc0-450c-9453-4b19b3d18a69",
   "metadata": {},
   "source": [
    "## Introduction\n",
    "\n",
    "**Heart disease** is a leading cause of death globally. Early detection can lead to effective treatment and management, potentially reducing the mortality rate. Our project aims to answer the question: “Can we predict the presence of heart disease based on health parameters?”\n",
    "\n",
    "We will use the Heart Disease dataset from the UCI Machine Learning Repository. This dataset contains 76 attributes, including age, sex, chest pain type, resting blood pressure, cholesterol levels, fasting blood sugar, and others. Missing values can also be find in this dataset as well."
   ]
  },
  {
   "cell_type": "code",
   "execution_count": 16,
   "id": "fe8605e9-615b-44e9-a499-b914a4d1fc95",
   "metadata": {
    "tags": []
   },
   "outputs": [],
   "source": [
    "#Importing Libraries\n",
    "library(tidyverse)\n",
    "library(tidymodels)\n",
    "library(repr)\n",
    "library(RColorBrewer)"
   ]
  },
  {
   "cell_type": "code",
   "execution_count": 33,
   "id": "5944f9d2-3db0-48f4-9cf5-9c65aadbf11e",
   "metadata": {
    "tags": []
   },
   "outputs": [
    {
     "name": "stderr",
     "output_type": "stream",
     "text": [
      "\u001b[1mRows: \u001b[22m\u001b[34m294\u001b[39m \u001b[1mColumns: \u001b[22m\u001b[34m14\u001b[39m\n",
      "\u001b[36m──\u001b[39m \u001b[1mColumn specification\u001b[22m \u001b[36m────────────────────────────────────────────────────────\u001b[39m\n",
      "\u001b[1mDelimiter:\u001b[22m \",\"\n",
      "\u001b[31mchr\u001b[39m (9): trestbps, chol, fbs, restecg, thalach, exang, slope, ca, thal\n",
      "\u001b[32mdbl\u001b[39m (5): age, sex, cp, oldpeak, num\n",
      "\n",
      "\u001b[36mℹ\u001b[39m Use `spec()` to retrieve the full column specification for this data.\n",
      "\u001b[36mℹ\u001b[39m Specify the column types or set `show_col_types = FALSE` to quiet this message.\n"
     ]
    },
    {
     "data": {
      "text/html": [
       "<table class=\"dataframe\">\n",
       "<caption>A tibble: 9 × 3</caption>\n",
       "<thead>\n",
       "\t<tr><th scope=col>age</th><th scope=col>fbs</th><th scope=col>trestbps</th></tr>\n",
       "\t<tr><th scope=col>&lt;dbl&gt;</th><th scope=col>&lt;chr&gt;</th><th scope=col>&lt;chr&gt;</th></tr>\n",
       "</thead>\n",
       "<tbody>\n",
       "\t<tr><td>61</td><td>0</td><td>130</td></tr>\n",
       "\t<tr><td>61</td><td>0</td><td>125</td></tr>\n",
       "\t<tr><td>62</td><td>0</td><td>160</td></tr>\n",
       "\t<tr><td>62</td><td>0</td><td>140</td></tr>\n",
       "\t<tr><td>63</td><td>0</td><td>150</td></tr>\n",
       "\t<tr><td>65</td><td>1</td><td>140</td></tr>\n",
       "\t<tr><td>65</td><td>1</td><td>170</td></tr>\n",
       "\t<tr><td>66</td><td>0</td><td>140</td></tr>\n",
       "\t<tr><td>65</td><td>0</td><td>130</td></tr>\n",
       "</tbody>\n",
       "</table>\n"
      ],
      "text/latex": [
       "A tibble: 9 × 3\n",
       "\\begin{tabular}{lll}\n",
       " age & fbs & trestbps\\\\\n",
       " <dbl> & <chr> & <chr>\\\\\n",
       "\\hline\n",
       "\t 61 & 0 & 130\\\\\n",
       "\t 61 & 0 & 125\\\\\n",
       "\t 62 & 0 & 160\\\\\n",
       "\t 62 & 0 & 140\\\\\n",
       "\t 63 & 0 & 150\\\\\n",
       "\t 65 & 1 & 140\\\\\n",
       "\t 65 & 1 & 170\\\\\n",
       "\t 66 & 0 & 140\\\\\n",
       "\t 65 & 0 & 130\\\\\n",
       "\\end{tabular}\n"
      ],
      "text/markdown": [
       "\n",
       "A tibble: 9 × 3\n",
       "\n",
       "| age &lt;dbl&gt; | fbs &lt;chr&gt; | trestbps &lt;chr&gt; |\n",
       "|---|---|---|\n",
       "| 61 | 0 | 130 |\n",
       "| 61 | 0 | 125 |\n",
       "| 62 | 0 | 160 |\n",
       "| 62 | 0 | 140 |\n",
       "| 63 | 0 | 150 |\n",
       "| 65 | 1 | 140 |\n",
       "| 65 | 1 | 170 |\n",
       "| 66 | 0 | 140 |\n",
       "| 65 | 0 | 130 |\n",
       "\n"
      ],
      "text/plain": [
       "  age fbs trestbps\n",
       "1 61  0   130     \n",
       "2 61  0   125     \n",
       "3 62  0   160     \n",
       "4 62  0   140     \n",
       "5 63  0   150     \n",
       "6 65  1   140     \n",
       "7 65  1   170     \n",
       "8 66  0   140     \n",
       "9 65  0   130     "
      ]
     },
     "metadata": {},
     "output_type": "display_data"
    }
   ],
   "source": [
    "column_names <- c(\"age\", \"sex\", \"cp\", \"trestbps\", \"chol\", \"fbs\", \"restecg\", \"thalach\", \"exang\", \"oldpeak\", \"slope\", \"ca\", \"thal\", \"num\")\n",
    "heart_disease <- read_csv(\"data/processed.hungarian.data\", col_names = column_names)|>\n",
    "                 select(age , fbs, trestbps)|>\n",
    "                 filter(age > 60)\n",
    "heart_disease\n",
    "\n",
    "#idk what columns we want to to include, so i just picked the one that I'm interested... feel free to add or remove \n",
    "#once we are confirmed, i think we should be specific in our questions based on the columns and observation we used - Katie"
   ]
  },
  {
   "cell_type": "code",
   "execution_count": null,
   "id": "fe946c05-a49c-41a3-a6f8-d2f9f206e908",
   "metadata": {},
   "outputs": [],
   "source": []
  },
  {
   "cell_type": "code",
   "execution_count": null,
   "id": "d6066953-cfea-48c6-b0da-af0e153fdc9b",
   "metadata": {},
   "outputs": [],
   "source": []
  }
 ],
 "metadata": {
  "kernelspec": {
   "display_name": "R",
   "language": "R",
   "name": "ir"
  },
  "language_info": {
   "codemirror_mode": "r",
   "file_extension": ".r",
   "mimetype": "text/x-r-source",
   "name": "R",
   "pygments_lexer": "r",
   "version": "4.2.2"
  },
  "widgets": {
   "application/vnd.jupyter.widget-state+json": {
    "state": {},
    "version_major": 2,
    "version_minor": 0
   }
  }
 },
 "nbformat": 4,
 "nbformat_minor": 5
}
