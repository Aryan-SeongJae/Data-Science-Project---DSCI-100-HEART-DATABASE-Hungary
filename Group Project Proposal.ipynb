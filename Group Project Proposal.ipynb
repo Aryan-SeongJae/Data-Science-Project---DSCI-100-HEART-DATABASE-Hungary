{
 "cells": [
  {
   "cell_type": "markdown",
   "id": "2dc2be9a-5e70-476a-a008-64157c0e5802",
   "metadata": {},
   "source": [
    "**GROUP PROJECT PROPOSAL**\n"
   ]
  },
  {
   "cell_type": "markdown",
   "id": "cd763147-fda4-4f2a-a7c6-6e7084e2904d",
   "metadata": {},
   "source": [
    "# **USING AGE, HEARTRATE, AND CHOLESTROL TO CLASSIFY HEART PATIENTS IN CLEVELAND**\n",
    "#### ARYAN JAIN, KATIE LIANG, MADILYN PORTAS, VIBHAV"
   ]
  },
  {
   "cell_type": "code",
   "execution_count": null,
   "id": "b1defa50-c742-4361-b135-a2a88f2ad8c0",
   "metadata": {},
   "outputs": [],
   "source": []
  },
  {
   "cell_type": "code",
   "execution_count": null,
   "id": "34e6982f-53f7-4daf-a0bb-8964bad2640c",
   "metadata": {},
   "outputs": [],
   "source": []
  }
 ],
 "metadata": {
  "kernelspec": {
   "display_name": "R",
   "language": "R",
   "name": "ir"
  },
  "language_info": {
   "codemirror_mode": "r",
   "file_extension": ".r",
   "mimetype": "text/x-r-source",
   "name": "R",
   "pygments_lexer": "r",
   "version": "4.2.2"
  },
  "widgets": {
   "application/vnd.jupyter.widget-state+json": {
    "state": {},
    "version_major": 2,
    "version_minor": 0
   }
  }
 },
 "nbformat": 4,
 "nbformat_minor": 5
}
