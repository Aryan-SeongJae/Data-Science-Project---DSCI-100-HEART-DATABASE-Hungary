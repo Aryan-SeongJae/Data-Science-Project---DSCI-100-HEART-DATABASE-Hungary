{
 "cells": [
  {
   "cell_type": "markdown",
   "id": "2dc2be9a-5e70-476a-a008-64157c0e5802",
   "metadata": {},
   "source": [
    "**GROUP PROJECT PROPOSAL**\n"
   ]
  },
  {
   "cell_type": "markdown",
   "id": "cd763147-fda4-4f2a-a7c6-6e7084e2904d",
   "metadata": {},
   "source": [
    "# **Predicting Heart Disease Using DATA SCIENCE**\n",
    "#### ARYAN JAIN, KATIE LIANG, MADILYN PORTAS, VIBHAV"
   ]
  },
  {
   "cell_type": "markdown",
   "id": "901dbfde-4fc0-450c-9453-4b19b3d18a69",
   "metadata": {},
   "source": [
    "## Introduction\n",
    "\n",
    "**Heart disease** is a leading cause of death globally. Early detection can lead to effective treatment and management, potentially reducing the mortality rate. Our project aims to answer the question: “Can we predict the presence of heart disease based on health parameters?”\n",
    "\n",
    "We will use the Heart Disease dataset from the UCI Machine Learning Repository. This dataset contains 76 attributes, including age, sex, chest pain type, resting blood pressure, cholesterol levels, fasting blood sugar, and others."
   ]
  },
  {
   "cell_type": "code",
   "execution_count": 5,
   "id": "fe8605e9-615b-44e9-a499-b914a4d1fc95",
   "metadata": {
    "tags": []
   },
   "outputs": [],
   "source": [
    "#Importing Libraries\n",
    "library(tidyverse)\n",
    "library(tidymodels)\n",
    "library(repr)\n",
    "library(RColorBrewer)"
   ]
  },
  {
   "cell_type": "code",
   "execution_count": null,
   "id": "5944f9d2-3db0-48f4-9cf5-9c65aadbf11e",
   "metadata": {},
   "outputs": [],
   "source": []
  },
  {
   "cell_type": "code",
   "execution_count": null,
   "id": "b2bd22d3-0f2c-4c60-a0a2-8b2c00f55bbb",
   "metadata": {},
   "outputs": [],
   "source": []
  }
 ],
 "metadata": {
  "kernelspec": {
   "display_name": "R",
   "language": "R",
   "name": "ir"
  },
  "language_info": {
   "codemirror_mode": "r",
   "file_extension": ".r",
   "mimetype": "text/x-r-source",
   "name": "R",
   "pygments_lexer": "r",
   "version": "4.2.2"
  },
  "widgets": {
   "application/vnd.jupyter.widget-state+json": {
    "state": {},
    "version_major": 2,
    "version_minor": 0
   }
  }
 },
 "nbformat": 4,
 "nbformat_minor": 5
}
