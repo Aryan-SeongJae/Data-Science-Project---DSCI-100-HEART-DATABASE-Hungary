{
 "cells": [
  {
   "cell_type": "markdown",
   "id": "1d4306fd-3465-40e0-8d17-0f4f332e0587",
   "metadata": {},
   "source": [
    "# **Project Report**"
   ]
  },
  {
   "cell_type": "markdown",
   "id": "3f4d1811-944c-423a-b4f3-faf2378be21c",
   "metadata": {},
   "source": [
    "# **SERUM CHOLESTROL AND MAXIMUM HEART RATE ACHIEVED TO DIAGNOSE HEART DISEASE PATIENTS FROM HUNGARY**\n",
    "\n",
    "Aryan Jain, Vibhav "
   ]
  },
  {
   "cell_type": "markdown",
   "id": "14fab048-b878-4e5f-a53f-13e67e7d5826",
   "metadata": {},
   "source": [
    "## INTRODUCTION"
   ]
  },
  {
   "cell_type": "markdown",
   "id": "cc6fc719-81b5-48ad-8cee-3f5a4f45a7d3",
   "metadata": {},
   "source": [
    "Cardiovascular disease encompasses a spectrum of cardiac conditions originating from malfunctions within the cardiac and vascular systems. Among these, coronary artery disease (CAD) manifests when the arteries responsible for supplying blood to the heart undergo a narrowing process. Numerous risk factors contribute to the predisposition for this malady, including elevated cholesterol levels and the maximum heart rate attained during physiological exertion.\n",
    "\n",
    "Elevated cholesterol levels precipitate the accumulation of lipid deposits within the vasculature, impeding the smooth flow of blood through the arteries. The rupture of these deposits may culminate in the formation of a thrombus, thereby instigating severe cardiovascular events such as myocardial infarction or stroke. Notably, individuals afflicted by heart disease may experience a notable reduction in their maximum heart rate, as indicated by medical insights provided by WebMD in 2002.\n",
    "\n",
    "In light of these considerations, the pertinent query arises: can the likelihood of an individual being afflicted by heart disease be ascertained based on an analysis of serum cholesterol levels and the maximum heart rate achieved? To address this question, we propose the utilization of a k-nearest neighbors (KNN) classifier algorithm, an analytical tool with demonstrated efficacy in pattern recognition and classification tasks. By employing this algorithm, we aim to discern discernible patterns and relationships between the aforementioned physiological parameters and the presence of heart disease in a new patient."
   ]
  },
  {
   "cell_type": "markdown",
   "id": "5459dc14-a8c6-4cfd-add2-1cfade13a79c",
   "metadata": {},
   "source": [
    "Our study involves the utilization of the \"processed.hungarian.data\" dataset extracted from the Heart Disease Database for the predictive assessment of heart disease presence in patients from Cleveland. The dataset comprises several pertinent variables, and our focus is on utilizing the variables \"chol\" (serum cholesterol level) and \"thalach\" (maximum heart rate achieved) as predictive features.\n",
    "\n",
    "The specific columns within the dataset are defined as follows:\n",
    "\n",
    "1. **age**: Age of the patient\n",
    "2. **sex**: Gender of the patient (1 = male, 0 = female)\n",
    "3. **cp**: Chest pain type\n",
    "4. **trestbps**: Resting blood pressure in mmHg\n",
    "5. **chol**: Serum cholesterol level in mg/dl\n",
    "6. **fbs**: Fasting blood sugar > 120 mg/dl? (1 = True, 0 = False)\n",
    "7. **restecg**: Resting electrocardiographic results\n",
    "8. **thalach**: Maximum heart rate achieved\n",
    "9. **exang**: Whether exercise induced angina (1 = True, 0 = False)\n",
    "10. **oldpeak**: ST depression induced by exercise, relative to rest\n",
    "11. **slope**: The slope of the peak exercise ST segment (1 = upslope, 2 = flat, 3 = downslope)\n",
    "12. **ca**: Number of major vessels (0-3) colored by fluoroscopy\n",
    "13. **thal**: Thalassemia classification (3 = normal, 6 = fixed defect, 7 = reversible defect)\n",
    "14. **num**: Diagnosis of heart disease (1, 2, 3, 4 = presence, 0 = no presence)\n",
    "\n",
    "For our analysis, we aim to employ the \"chol\" and \"thalach\" variables as predictors to discern the presence or absence of heart disease in patients. This predictive task aligns with the broader objective of leveraging relevant clinical data to enhance diagnostic capabilities and contribute to the advancement of cardiovascular health assessment methodologies."
   ]
  },
  {
   "cell_type": "markdown",
   "id": "0f19f9d5-a7f9-4ee0-9d9d-9e12a74bba60",
   "metadata": {},
   "source": [
    "### Methodology\n",
    "\n",
    "Data Preprocessing and Exploratory Data Analysis\n",
    "\n",
    "We initiated our study by importing relevant libraries and acquiring the \"processed.cleveland.data\" dataset from an authenticated online source. Subsequently, a meticulous data preprocessing phase ensued, wherein we applied systematic cleaning and tidying procedures to render the dataset amenable for analytical endeavors. This process involved judiciously assigning appropriate column types and introducing a new column labeled as \"diag\" to enhance the interpretability of the data.\n",
    "\n",
    "To facilitate subsequent analytical procedures, we judiciously partitioned the dataset into distinct training and testing sets. It is noteworthy that our analytical focus remained exclusively on the training set until the final stages of the investigation.\n",
    "\n",
    "A comprehensive summary of the training set was generated, laying the groundwork for subsequent predictive modeling. This involved the extraction of key insights and patterns from the training data to inform the desired behavior and performance criteria of our classifier.\n",
    "\n",
    "Visualization emerged as an integral component of our exploratory analysis. Specifically, we employed graphical representations to elucidate the intricate relationship between the variables \"thalac\" (maximum heart rate achieved) and \"chol\" (serum cholesterol level). This visual exploration was pivotal in fostering a nuanced understanding of the distributional characteristics inherent in the dataset, thereby contributing to the refinement of subsequent analytical strategies."
   ]
  },
  {
   "cell_type": "markdown",
   "id": "43692b3e-d348-44f9-a599-d7202687fc9b",
   "metadata": {},
   "source": [
    "### Determining Optimal k for K-Nearest Neighbors Classifier\n",
    "\n",
    "The objective of this phase in our investigation is to ascertain the optimal value for the parameter 'k' in the k-nearest neighbors (KNN) algorithm, thereby maximizing the accuracy of our predictive model. The subsequent methodology encapsulates a systematic approach towards achieving this goal.\n",
    "\n",
    "1. **Data Preprocessing and Scaling:**\n",
    "   We commence by applying the recipe function to center and scale the training data, a crucial step in normalizing variables to a standardized range, facilitating robust and unbiased model training.\n",
    "\n",
    "2. **Cross-Validation Technique:**\n",
    "   Cross-validation, an integral aspect of our methodological framework, is executed with ten folds on the training dataset. This deliberate choice of employing ten folds serves to mitigate the influence of the specific observations in the validation set, thus enhancing the robustness and generalizability of our model.\n",
    "\n",
    "3. **K-Nearest Neighbors Model Initialization:**\n",
    "   The KNN model is instantiated with the parameter 'neighbours' set to 'tune()', indicative of a deliberate intention to identify the most optimal value for 'k' through subsequent tuning.\n",
    "\n",
    "4. **Workflow Integration:**\n",
    "   The recipe and the KNN model are seamlessly integrated into a workflow, with the 'tune_grid' function employed to systematically explore a range of 'k' values specified in 'gridvals' during cross-validation.\n",
    "\n",
    "5. **Determining Optimal k:**\n",
    "   The optimal 'k' value is discerned by filtering for accuracy and visualizing the accuracy estimate against the 'k' values through a line plot. This graphical representation serves to elucidate the relationship between 'k' and accuracy, guiding the selection of the most advantageous 'k' value.\n",
    "\n",
    "6. **Model Evaluation and Validation:**\n",
    "   Rigorous evaluation ensues to ensure that the selected 'k' value averts both underfitting and overfitting. Furthermore, a comparative analysis against a majority classifier is conducted to validate the efficacy of our model, affirming its superiority in predictive accuracy.\n",
    "\n",
    "This methodological framework adheres to rigorous standards, leveraging cross-validation and systematic exploration to identify the optimal 'k' for the KNN algorithm, thus enhancing the robustness and reliability of our predictive model."
   ]
  },
  {
   "cell_type": "markdown",
   "id": "53630bd5-955b-413e-90a9-941f24ed415c",
   "metadata": {},
   "source": [
    "### Visualizing our results\n",
    "\n",
    "To visualize our results, we plotted max heart rate on the x-axis and cholesterol levels on the y-axis, using diagnosis to colour the points.\n",
    "\n",
    "To check for over/underfitting, we coloured the background of the graph based on what prediction would be made at every possible point. This also allowed us to quickly identify how the model classified patients, and where the boundaries were."
   ]
  },
  {
   "cell_type": "markdown",
   "id": "ea45fa8a-3db0-4f22-ac74-952f518b5741",
   "metadata": {},
   "source": [
    "### Testing our classifier\n",
    "\n",
    "Made a new model specification for the best  value chosen, combined with the recipe made earlier in a workflow, and fit the classifier to our training set.\n",
    "\n",
    "Used predict on the testing set to evaluate the classifier's predicition accuracy on data it hadn't seen before.\n",
    "\n",
    "Produced a confusion matrix to get a sense of which diagnoses the classifier was more accurate at giving, and what effects that has on real world application.\n",
    "\n",
    "Tested the accuracy of our classifier when given data from Hungary."
   ]
  },
  {
   "cell_type": "markdown",
   "id": "b908e655-b38a-48e8-862d-bc53f9978451",
   "metadata": {},
   "source": [
    "## Preprocessing and exploratory data analysis\n"
   ]
  },
  {
   "cell_type": "code",
   "execution_count": 2,
   "id": "684d36c0-d5ee-4b96-a210-50091a793340",
   "metadata": {},
   "outputs": [
    {
     "name": "stderr",
     "output_type": "stream",
     "text": [
      "── \u001b[1mAttaching packages\u001b[22m ─────────────────────────────────────── tidyverse 1.3.2 ──\n",
      "\u001b[32m✔\u001b[39m \u001b[34mggplot2\u001b[39m 3.4.2     \u001b[32m✔\u001b[39m \u001b[34mpurrr  \u001b[39m 1.0.1\n",
      "\u001b[32m✔\u001b[39m \u001b[34mtibble \u001b[39m 3.2.1     \u001b[32m✔\u001b[39m \u001b[34mdplyr  \u001b[39m 1.1.1\n",
      "\u001b[32m✔\u001b[39m \u001b[34mtidyr  \u001b[39m 1.3.0     \u001b[32m✔\u001b[39m \u001b[34mstringr\u001b[39m 1.5.0\n",
      "\u001b[32m✔\u001b[39m \u001b[34mreadr  \u001b[39m 2.1.3     \u001b[32m✔\u001b[39m \u001b[34mforcats\u001b[39m 0.5.2\n",
      "── \u001b[1mConflicts\u001b[22m ────────────────────────────────────────── tidyverse_conflicts() ──\n",
      "\u001b[31m✖\u001b[39m \u001b[34mdplyr\u001b[39m::\u001b[32mfilter()\u001b[39m masks \u001b[34mstats\u001b[39m::filter()\n",
      "\u001b[31m✖\u001b[39m \u001b[34mdplyr\u001b[39m::\u001b[32mlag()\u001b[39m    masks \u001b[34mstats\u001b[39m::lag()\n",
      "── \u001b[1mAttaching packages\u001b[22m ────────────────────────────────────── tidymodels 1.0.0 ──\n",
      "\n",
      "\u001b[32m✔\u001b[39m \u001b[34mbroom       \u001b[39m 1.0.2     \u001b[32m✔\u001b[39m \u001b[34mrsample     \u001b[39m 1.1.1\n",
      "\u001b[32m✔\u001b[39m \u001b[34mdials       \u001b[39m 1.1.0     \u001b[32m✔\u001b[39m \u001b[34mtune        \u001b[39m 1.0.1\n",
      "\u001b[32m✔\u001b[39m \u001b[34minfer       \u001b[39m 1.0.4     \u001b[32m✔\u001b[39m \u001b[34mworkflows   \u001b[39m 1.1.2\n",
      "\u001b[32m✔\u001b[39m \u001b[34mmodeldata   \u001b[39m 1.0.1     \u001b[32m✔\u001b[39m \u001b[34mworkflowsets\u001b[39m 1.0.0\n",
      "\u001b[32m✔\u001b[39m \u001b[34mparsnip     \u001b[39m 1.0.3     \u001b[32m✔\u001b[39m \u001b[34myardstick   \u001b[39m 1.1.0\n",
      "\u001b[32m✔\u001b[39m \u001b[34mrecipes     \u001b[39m 1.0.4     \n",
      "\n",
      "── \u001b[1mConflicts\u001b[22m ───────────────────────────────────────── tidymodels_conflicts() ──\n",
      "\u001b[31m✖\u001b[39m \u001b[34mscales\u001b[39m::\u001b[32mdiscard()\u001b[39m masks \u001b[34mpurrr\u001b[39m::discard()\n",
      "\u001b[31m✖\u001b[39m \u001b[34mdplyr\u001b[39m::\u001b[32mfilter()\u001b[39m   masks \u001b[34mstats\u001b[39m::filter()\n",
      "\u001b[31m✖\u001b[39m \u001b[34mrecipes\u001b[39m::\u001b[32mfixed()\u001b[39m  masks \u001b[34mstringr\u001b[39m::fixed()\n",
      "\u001b[31m✖\u001b[39m \u001b[34mdplyr\u001b[39m::\u001b[32mlag()\u001b[39m      masks \u001b[34mstats\u001b[39m::lag()\n",
      "\u001b[31m✖\u001b[39m \u001b[34myardstick\u001b[39m::\u001b[32mspec()\u001b[39m masks \u001b[34mreadr\u001b[39m::spec()\n",
      "\u001b[31m✖\u001b[39m \u001b[34mrecipes\u001b[39m::\u001b[32mstep()\u001b[39m   masks \u001b[34mstats\u001b[39m::step()\n",
      "\u001b[34m•\u001b[39m Search for functions across packages at \u001b[32mhttps://www.tidymodels.org/find/\u001b[39m\n",
      "\n"
     ]
    }
   ],
   "source": [
    "# importing libraries\n",
    "library(tidyverse)\n",
    "library(tidymodels)\n",
    "library(repr)\n",
    "library(RColorBrewer)\n",
    "\n",
    "# formatting graphs\n",
    "options(repr.plot.width = 12, repr.plot.height = 6)"
   ]
  },
  {
   "cell_type": "code",
   "execution_count": 1,
   "id": "8622fa17-da37-4bfd-80a5-5686d83a6025",
   "metadata": {
    "tags": []
   },
   "outputs": [
    {
     "ename": "ERROR",
     "evalue": "Error in read_csv(\"https://archive.ics.uci.edu/ml/machine-learning-databases/heart-disease/processed.hungarian.data\", : could not find function \"read_csv\"\n",
     "output_type": "error",
     "traceback": [
      "Error in read_csv(\"https://archive.ics.uci.edu/ml/machine-learning-databases/heart-disease/processed.hungarian.data\", : could not find function \"read_csv\"\nTraceback:\n"
     ]
    }
   ],
   "source": [
    "hungarian_data <- read_csv(\"https://archive.ics.uci.edu/ml/machine-learning-databases/heart-disease/processed.hungarian.data\",\n",
    "                          col_names = FALSE)\n",
    "\n",
    "head(hungarian_data)\n",
    "\n",
    "nrow(hungarian_data)"
   ]
  },
  {
   "cell_type": "markdown",
   "id": "f55e65ea-cf1a-488f-a9e6-10773f237be1",
   "metadata": {},
   "source": [
    "figure 1\n",
    "\n",
    "As you can see above, the dataframe does not come with column names, so those must be added. Some factor columns are also being read as <dbl> or <chr>, so those need to be changed as well.\n",
    "\n",
    "The publisher tells us that each column is numeric-valued and there are 294 rows, with missing data represented as the string \"?\"."
   ]
  },
  {
   "cell_type": "markdown",
   "id": "92b5669b-f537-465d-8f52-3e14252149ff",
   "metadata": {
    "tags": []
   },
   "source": [
    "## Data Cleaning and Structuring\n",
    "\n",
    "The presence of \"<chr>\" data types in certain columns is attributed to the inclusion of \"?\" as placeholders for unknown values. In order to facilitate appropriate data type assignment, we undertake a meticulous data cleaning process wherein these \"?\" entries are systematically replaced with NA values.\n",
    "\n",
    "Furthermore, to enhance the clinical relevance of our analysis, a binary diagnostic column, denoted as \"diag,\" is introduced. While the existing variable \"num\" categorizes heart disease by severity, with 0 indicating the absence of the condition, the \"diag\" variable transcends severity levels. It serves the purpose of classifying patients into two categories—those with or without heart disease. This binary classification, irrespective of disease severity, is imperative in practical healthcare scenarios, as it prompts medical attention and potential treatment recommendations for any manifestation of heart disease. The introduction of the \"diag\" column underscores the translational utility of our analysis in real-world healthcare contexts."
   ]
  },
  {
   "cell_type": "code",
   "execution_count": 47,
   "id": "954ba9e0-d854-4b10-8df2-a5df7d07851d",
   "metadata": {
    "tags": []
   },
   "outputs": [
    {
     "ename": "ERROR",
     "evalue": "\u001b[1m\u001b[33mError\u001b[39m in `mutate()`:\u001b[22m\n\u001b[1m\u001b[22m\u001b[36mℹ\u001b[39m In argument: `diag = as.factor(ifelse(is.na(num), NA, (num > 0)))`.\n\u001b[1mCaused by error in `num > 0`:\u001b[22m\n\u001b[33m!\u001b[39m comparison (>) is possible only for atomic and list types\n",
     "output_type": "error",
     "traceback": [
      "\u001b[1m\u001b[33mError\u001b[39m in `mutate()`:\u001b[22m\n\u001b[1m\u001b[22m\u001b[36mℹ\u001b[39m In argument: `diag = as.factor(ifelse(is.na(num), NA, (num > 0)))`.\n\u001b[1mCaused by error in `num > 0`:\u001b[22m\n\u001b[33m!\u001b[39m comparison (>) is possible only for atomic and list types\nTraceback:\n",
      "1. mutate(mutate(mutate(hungarian_clean, diag = as.factor(ifelse(is.na(num), \n .     NA, (num > 0)))), sex = as.factor(as.integer(sex)), cp = as.factor(as.integer(cp)), \n .     fbs = as.factor(as.integer(fbs)), restecg = as.factor(as.integer(restecg)), \n .     exang = as.factor(as.integer(exang)), thal = as.factor(as.integer(thal)), \n .     ca = as.factor(as.integer(ca)), slope = as.factor(as.integer(slope))), \n .     num = as_factor(num))",
      "2. mutate(mutate(hungarian_clean, diag = as.factor(ifelse(is.na(num), \n .     NA, (num > 0)))), sex = as.factor(as.integer(sex)), cp = as.factor(as.integer(cp)), \n .     fbs = as.factor(as.integer(fbs)), restecg = as.factor(as.integer(restecg)), \n .     exang = as.factor(as.integer(exang)), thal = as.factor(as.integer(thal)), \n .     ca = as.factor(as.integer(ca)), slope = as.factor(as.integer(slope)))",
      "3. mutate(hungarian_clean, diag = as.factor(ifelse(is.na(num), NA, \n .     (num > 0))))",
      "4. mutate.data.frame(hungarian_clean, diag = as.factor(ifelse(is.na(num), \n .     NA, (num > 0))))",
      "5. mutate_cols(.data, dplyr_quosures(...), by)",
      "6. withCallingHandlers(for (i in seq_along(dots)) {\n .     poke_error_context(dots, i, mask = mask)\n .     context_poke(\"column\", old_current_column)\n .     new_columns <- mutate_col(dots[[i]], data, mask, new_columns)\n . }, error = dplyr_error_handler(dots = dots, mask = mask, bullets = mutate_bullets, \n .     error_call = error_call, error_class = \"dplyr:::mutate_error\"), \n .     warning = dplyr_warning_handler(state = warnings_state, mask = mask, \n .         error_call = error_call))",
      "7. mutate_col(dots[[i]], data, mask, new_columns)",
      "8. mask$eval_all_mutate(quo)",
      "9. eval()",
      "10. as.factor(ifelse(is.na(num), NA, (num > 0)))",
      "11. is.factor(x)",
      "12. ifelse(is.na(num), NA, (num > 0))",
      "13. .handleSimpleError(function (cnd) \n  . {\n  .     local_error_context(dots, i = frame[[i_sym]], mask = mask)\n  .     if (inherits(cnd, \"dplyr:::internal_error\")) {\n  .         parent <- error_cnd(message = bullets(cnd))\n  .     }\n  .     else {\n  .         parent <- cnd\n  .     }\n  .     message <- c(cnd_bullet_header(action), i = if (has_active_group_context(mask)) cnd_bullet_cur_group_label())\n  .     abort(message, class = error_class, parent = parent, call = error_call)\n  . }, \"comparison (>) is possible only for atomic and list types\", \n  .     base::quote(num > 0))",
      "14. h(simpleError(msg, call))",
      "15. abort(message, class = error_class, parent = parent, call = error_call)",
      "16. signal_abort(cnd, .file)"
     ]
    }
   ],
   "source": [
    "set.seed(1)\n",
    "# assigning col names\n",
    "hungarian_clean <- hungarian_data\n",
    "\n",
    "colnames(hungarian_clean) <- c(\"age\", \"sex\", \"cp\", \"trestbps\", \"chol\", \"fbs\", \"restecg\", \n",
    "                               \"thalach\", \"exang\", \"oldpeak\", \"slope\", \"ca\", \"thal\", \"num\")\n",
    "                           \n",
    "# changing \"?\" into NA\n",
    "hungarian_clean[ hungarian_clean == \"?\" ] <- NA\n",
    "\n",
    "# adding diag column, setting col types\n",
    "# as.integer is being used to get rid of decimal points when switching to factor\n",
    "hungarian_clean <- hungarian_clean |>\n",
    "                    mutate(diag = as.factor(ifelse(is.na(num), NA, (num > 0)))) |>\n",
    "                    mutate(sex = as.factor(as.integer(sex)), cp = as.factor(as.integer(cp)), \n",
    "                            fbs = as.factor(as.integer(fbs)), restecg = as.factor(as.integer(restecg)),\n",
    "                            exang = as.factor(as.integer(exang)), thal = as.factor(as.integer(thal)),\n",
    "                            ca = as.factor(as.integer(ca)), slope = as.factor(as.integer(slope))) |>\n",
    "                     mutate(num = as_factor(num))\n",
    "\n",
    "head(hungarian_clean)"
   ]
  },
  {
   "cell_type": "markdown",
   "id": "fc071696-c13a-48a6-baa1-1abf7130ce23",
   "metadata": {},
   "source": [
    "figure 2\n",
    "\n",
    "Now our data is clean and tidy!\n",
    "\n",
    "Since num uses integers to distinguish presence (1,2,3,4) from absence (0), and we want to determine whether or not a patient has heart disease, a new boolean column diag has been appended to narrow diagnoses down to TRUE or FALSE. To be able to stratify by it, we made it a factor column."
   ]
  },
  {
   "cell_type": "markdown",
   "id": "a9af3706-7866-4e3e-b1b3-508a3aeba9e8",
   "metadata": {},
   "source": [
    "#### Splitting our data into training and testing sets\n",
    "\n",
    "Before working on our model, we need to split our data into training and testing sets. Since we want to predict the new column diag, we will be stratifying by it.\n",
    "\n",
    "We will use initial_split to split our dataframe into 75% training and 25% testing, since it shuffles our data for us and ensures an constant proportion of each class is present in both. The 75-25 split allows us to train our model on as many data points as possible while also keeping enough data for effective testing later."
   ]
  },
  {
   "cell_type": "code",
   "execution_count": 31,
   "id": "e9d68cdb-af3a-4a8e-886e-653ea007945b",
   "metadata": {
    "tags": []
   },
   "outputs": [
    {
     "ename": "ERROR",
     "evalue": "\u001b[1m\u001b[33mError\u001b[39m in `mc_cv()`:\u001b[22m\n\u001b[33m!\u001b[39m Can't subset columns that don't exist.\n\u001b[31m✖\u001b[39m Column `diag` doesn't exist.\n",
     "output_type": "error",
     "traceback": [
      "\u001b[1m\u001b[33mError\u001b[39m in `mc_cv()`:\u001b[22m\n\u001b[33m!\u001b[39m Can't subset columns that don't exist.\n\u001b[31m✖\u001b[39m Column `diag` doesn't exist.\nTraceback:\n",
      "1. initial_split(hungarian_clean, prop = 3/4, strata = diag)",
      "2. mc_cv(data = data, prop = prop, strata = {\n .     {\n .         strata\n .     }\n . }, breaks = breaks, pool = pool, times = 1, ...)",
      "3. tidyselect::vars_select(names(data), !!enquo(strata))",
      "4. eval_select_impl(NULL, .vars, expr(c(!!!dots)), include = .include, \n .     exclude = .exclude, strict = .strict, name_spec = unique_name_spec, \n .     uniquely_named = TRUE, error_call = caller_env())",
      "5. with_subscript_errors(out <- vars_select_eval(vars, expr, strict = strict, \n .     data = x, name_spec = name_spec, uniquely_named = uniquely_named, \n .     allow_rename = allow_rename, allow_empty = allow_empty, allow_predicates = allow_predicates, \n .     type = type, error_call = error_call), type = type)",
      "6. try_fetch(expr, vctrs_error_subscript = function(cnd) {\n .     cnd$subscript_action <- subscript_action(type)\n .     cnd$subscript_elt <- \"column\"\n .     cnd_signal(cnd)\n . })",
      "7. withCallingHandlers(expr, condition = function(cnd) {\n .     {\n .         .__handler_frame__. <- TRUE\n .         .__setup_frame__. <- frame\n .         if (inherits(cnd, \"message\")) {\n .             except <- c(\"warning\", \"error\")\n .         }\n .         else if (inherits(cnd, \"warning\")) {\n .             except <- \"error\"\n .         }\n .         else {\n .             except <- \"\"\n .         }\n .     }\n .     while (!is_null(cnd)) {\n .         if (inherits(cnd, \"vctrs_error_subscript\")) {\n .             out <- handlers[[1L]](cnd)\n .             if (!inherits(out, \"rlang_zap\")) \n .                 throw(out)\n .         }\n .         inherit <- .subset2(.subset2(cnd, \"rlang\"), \"inherit\")\n .         if (is_false(inherit)) {\n .             return()\n .         }\n .         cnd <- .subset2(cnd, \"parent\")\n .     }\n . })",
      "8. vars_select_eval(vars, expr, strict = strict, data = x, name_spec = name_spec, \n .     uniquely_named = uniquely_named, allow_rename = allow_rename, \n .     allow_empty = allow_empty, allow_predicates = allow_predicates, \n .     type = type, error_call = error_call)",
      "9. walk_data_tree(expr, data_mask, context_mask)",
      "10. eval_c(expr, data_mask, context_mask)",
      "11. reduce_sels(node, data_mask, context_mask, init = init)",
      "12. walk_data_tree(new, data_mask, context_mask)",
      "13. as_indices_sel_impl(out, vars = vars, strict = strict, data = data, \n  .     allow_predicates = allow_predicates, call = error_call, arg = as_label(expr))",
      "14. as_indices_impl(x, vars, call = call, arg = arg, strict = strict)",
      "15. chr_as_locations(x, vars, call = call, arg = arg)",
      "16. vctrs::vec_as_location(x, n = length(vars), names = vars, call = call, \n  .     arg = arg)",
      "17. (function () \n  . stop_subscript_oob(i = i, subscript_type = subscript_type, names = names, \n  .     subscript_action = subscript_action, subscript_arg = subscript_arg, \n  .     call = call))()",
      "18. stop_subscript_oob(i = i, subscript_type = subscript_type, names = names, \n  .     subscript_action = subscript_action, subscript_arg = subscript_arg, \n  .     call = call)",
      "19. stop_subscript(class = \"vctrs_error_subscript_oob\", i = i, subscript_type = subscript_type, \n  .     ..., call = call)",
      "20. abort(class = c(class, \"vctrs_error_subscript\"), i = i, ..., \n  .     call = call)",
      "21. signal_abort(cnd, .file)",
      "22. signalCondition(cnd)",
      "23. (function (cnd) \n  . {\n  .     {\n  .         .__handler_frame__. <- TRUE\n  .         .__setup_frame__. <- frame\n  .         if (inherits(cnd, \"message\")) {\n  .             except <- c(\"warning\", \"error\")\n  .         }\n  .         else if (inherits(cnd, \"warning\")) {\n  .             except <- \"error\"\n  .         }\n  .         else {\n  .             except <- \"\"\n  .         }\n  .     }\n  .     while (!is_null(cnd)) {\n  .         if (inherits(cnd, \"vctrs_error_subscript\")) {\n  .             out <- handlers[[1L]](cnd)\n  .             if (!inherits(out, \"rlang_zap\")) \n  .                 throw(out)\n  .         }\n  .         inherit <- .subset2(.subset2(cnd, \"rlang\"), \"inherit\")\n  .         if (is_false(inherit)) {\n  .             return()\n  .         }\n  .         cnd <- .subset2(cnd, \"parent\")\n  .     }\n  . })(structure(list(message = \"\", trace = structure(list(call = list(\n  .     IRkernel::main(), kernel$run(), handle_shell(), executor$execute(msg), \n  .     tryCatch(evaluate(request$content$code, envir = .GlobalEnv, \n  .         output_handler = oh, stop_on_error = 1L), interrupt = function(cond) {\n  .         log_debug(\"Interrupt during execution\")\n  .         interrupted <<- TRUE\n  .     }, error = .self$handle_error), tryCatchList(expr, classes, \n  .         parentenv, handlers), tryCatchOne(tryCatchList(expr, \n  .         names[-nh], parentenv, handlers[-nh]), names[nh], parentenv, \n  .         handlers[[nh]]), doTryCatch(return(expr), name, parentenv, \n  .         handler), tryCatchList(expr, names[-nh], parentenv, handlers[-nh]), \n  .     tryCatchOne(expr, names, parentenv, handlers[[1L]]), doTryCatch(return(expr), \n  .         name, parentenv, handler), evaluate(request$content$code, \n  .         envir = .GlobalEnv, output_handler = oh, stop_on_error = 1L), \n  .     evaluate_call(expr, parsed$src[[i]], envir = envir, enclos = enclos, \n  .         debug = debug, last = i == length(out), use_try = stop_on_error != \n  .             2L, keep_warning = keep_warning, keep_message = keep_message, \n  .         output_handler = output_handler, include_timing = include_timing), \n  .     timing_fn(handle(ev <- withCallingHandlers(withVisible(eval_with_user_handlers(expr, \n  .         envir, enclos, user_handlers)), warning = wHandler, error = eHandler, \n  .         message = mHandler))), handle(ev <- withCallingHandlers(withVisible(eval_with_user_handlers(expr, \n  .         envir, enclos, user_handlers)), warning = wHandler, error = eHandler, \n  .         message = mHandler)), try(f, silent = TRUE), tryCatch(expr, \n  .         error = function(e) {\n  .             call <- conditionCall(e)\n  .             if (!is.null(call)) {\n  .                 if (identical(call[[1L]], quote(doTryCatch))) \n  .                   call <- sys.call(-4L)\n  .                 dcall <- deparse(call, nlines = 1L)\n  .                 prefix <- paste(\"Error in\", dcall, \": \")\n  .                 LONG <- 75L\n  .                 sm <- strsplit(conditionMessage(e), \"\\n\")[[1L]]\n  .                 w <- 14L + nchar(dcall, type = \"w\") + nchar(sm[1L], \n  .                   type = \"w\")\n  .                 if (is.na(w)) \n  .                   w <- 14L + nchar(dcall, type = \"b\") + nchar(sm[1L], \n  .                     type = \"b\")\n  .                 if (w > LONG) \n  .                   prefix <- paste0(prefix, \"\\n  \")\n  .             }\n  .             else prefix <- \"Error : \"\n  .             msg <- paste0(prefix, conditionMessage(e), \"\\n\")\n  .             .Internal(seterrmessage(msg[1L]))\n  .             if (!silent && isTRUE(getOption(\"show.error.messages\"))) {\n  .                 cat(msg, file = outFile)\n  .                 .Internal(printDeferredWarnings())\n  .             }\n  .             invisible(structure(msg, class = \"try-error\", condition = e))\n  .         }), tryCatchList(expr, classes, parentenv, handlers), \n  .     tryCatchOne(expr, names, parentenv, handlers[[1L]]), doTryCatch(return(expr), \n  .         name, parentenv, handler), withCallingHandlers(withVisible(eval_with_user_handlers(expr, \n  .         envir, enclos, user_handlers)), warning = wHandler, error = eHandler, \n  .         message = mHandler), withVisible(eval_with_user_handlers(expr, \n  .         envir, enclos, user_handlers)), eval_with_user_handlers(expr, \n  .         envir, enclos, user_handlers), eval(expr, envir, enclos), \n  .     eval(expr, envir, enclos), initial_split(hungarian_clean, \n  .         prop = 3/4, strata = diag), mc_cv(data = data, prop = prop, \n  .         strata = {\n  .             {\n  .                 strata\n  .             }\n  .         }, breaks = breaks, pool = pool, times = 1, ...), tidyselect::vars_select(names(data), \n  .         !!enquo(strata)), eval_select_impl(NULL, .vars, expr(c(!!!dots)), \n  .         include = .include, exclude = .exclude, strict = .strict, \n  .         name_spec = unique_name_spec, uniquely_named = TRUE, \n  .         error_call = caller_env()), with_subscript_errors(out <- vars_select_eval(vars, \n  .         expr, strict = strict, data = x, name_spec = name_spec, \n  .         uniquely_named = uniquely_named, allow_rename = allow_rename, \n  .         allow_empty = allow_empty, allow_predicates = allow_predicates, \n  .         type = type, error_call = error_call), type = type), \n  .     try_fetch(expr, vctrs_error_subscript = function(cnd) {\n  .         cnd$subscript_action <- subscript_action(type)\n  .         cnd$subscript_elt <- \"column\"\n  .         cnd_signal(cnd)\n  .     }), withCallingHandlers(expr, condition = function(cnd) {\n  .         {\n  .             .__handler_frame__. <- TRUE\n  .             .__setup_frame__. <- frame\n  .             if (inherits(cnd, \"message\")) {\n  .                 except <- c(\"warning\", \"error\")\n  .             }\n  .             else if (inherits(cnd, \"warning\")) {\n  .                 except <- \"error\"\n  .             }\n  .             else {\n  .                 except <- \"\"\n  .             }\n  .         }\n  .         while (!is_null(cnd)) {\n  .             if (inherits(cnd, \"vctrs_error_subscript\")) {\n  .                 out <- handlers[[1L]](cnd)\n  .                 if (!inherits(out, \"rlang_zap\")) \n  .                   throw(out)\n  .             }\n  .             inherit <- .subset2(.subset2(cnd, \"rlang\"), \"inherit\")\n  .             if (is_false(inherit)) {\n  .                 return()\n  .             }\n  .             cnd <- .subset2(cnd, \"parent\")\n  .         }\n  .     }), vars_select_eval(vars, expr, strict = strict, data = x, \n  .         name_spec = name_spec, uniquely_named = uniquely_named, \n  .         allow_rename = allow_rename, allow_empty = allow_empty, \n  .         allow_predicates = allow_predicates, type = type, error_call = error_call), \n  .     walk_data_tree(expr, data_mask, context_mask), eval_c(expr, \n  .         data_mask, context_mask), reduce_sels(node, data_mask, \n  .         context_mask, init = init), walk_data_tree(new, data_mask, \n  .         context_mask), as_indices_sel_impl(out, vars = vars, \n  .         strict = strict, data = data, allow_predicates = allow_predicates, \n  .         call = error_call, arg = as_label(expr)), as_indices_impl(x, \n  .         vars, call = call, arg = arg, strict = strict), chr_as_locations(x, \n  .         vars, call = call, arg = arg), vctrs::vec_as_location(x, \n  .         n = length(vars), names = vars, call = call, arg = arg), \n  .     `<fn>`(), stop_subscript_oob(i = i, subscript_type = subscript_type, \n  .         names = names, subscript_action = subscript_action, subscript_arg = subscript_arg, \n  .         call = call), stop_subscript(class = \"vctrs_error_subscript_oob\", \n  .         i = i, subscript_type = subscript_type, ..., call = call), \n  .     abort(class = c(class, \"vctrs_error_subscript\"), i = i, ..., \n  .         call = call)), parent = c(0L, 1L, 2L, 3L, 4L, 5L, 6L, \n  . 7L, 6L, 9L, 10L, 4L, 12L, 13L, 13L, 15L, 16L, 17L, 18L, 19L, \n  . 13L, 13L, 13L, 23L, 24L, 0L, 26L, 27L, 28L, 29L, 30L, 31L, 29L, \n  . 33L, 34L, 35L, 36L, 37L, 38L, 39L, 40L, 0L, 42L, 43L, 44L), visible = c(TRUE, \n  . TRUE, TRUE, TRUE, TRUE, TRUE, TRUE, TRUE, TRUE, TRUE, TRUE, TRUE, \n  . TRUE, TRUE, TRUE, TRUE, TRUE, TRUE, TRUE, TRUE, TRUE, TRUE, TRUE, \n  . TRUE, TRUE, TRUE, TRUE, FALSE, FALSE, FALSE, FALSE, FALSE, FALSE, \n  . FALSE, FALSE, FALSE, FALSE, FALSE, FALSE, FALSE, FALSE, FALSE, \n  . FALSE, FALSE, FALSE), namespace = c(\"IRkernel\", NA, \"IRkernel\", \n  . NA, \"base\", \"base\", \"base\", \"base\", \"base\", \"base\", \"base\", \"evaluate\", \n  . \"evaluate\", \"evaluate\", \"evaluate\", \"base\", \"base\", \"base\", \"base\", \n  . \"base\", \"base\", \"base\", \"evaluate\", \"base\", \"base\", \"rsample\", \n  . \"rsample\", \"tidyselect\", \"tidyselect\", \"tidyselect\", \"rlang\", \n  . \"base\", \"tidyselect\", \"tidyselect\", \"tidyselect\", \"tidyselect\", \n  . \"tidyselect\", \"tidyselect\", \"tidyselect\", \"tidyselect\", \"vctrs\", \n  . \"vctrs\", \"vctrs\", \"vctrs\", \"rlang\"), scope = c(\"::\", NA, \"local\", \n  . NA, \"::\", \"local\", \"local\", \"local\", \"local\", \"local\", \"local\", \n  . \"::\", \":::\", \"local\", \"local\", \"::\", \"::\", \"local\", \"local\", \n  . \"local\", \"::\", \"::\", \":::\", \"::\", \"::\", \"::\", \"::\", \"::\", \":::\", \n  . \":::\", \"::\", \"::\", \":::\", \":::\", \":::\", \":::\", \":::\", \":::\", \n  . \":::\", \":::\", \"::\", \"local\", \":::\", \":::\", \"::\"), error_frame = c(FALSE, \n  . FALSE, FALSE, FALSE, FALSE, FALSE, FALSE, FALSE, FALSE, FALSE, \n  . FALSE, FALSE, FALSE, FALSE, FALSE, FALSE, FALSE, FALSE, FALSE, \n  . FALSE, FALSE, FALSE, FALSE, FALSE, FALSE, FALSE, TRUE, FALSE, \n  . FALSE, FALSE, FALSE, FALSE, FALSE, FALSE, FALSE, FALSE, FALSE, \n  . FALSE, FALSE, FALSE, FALSE, FALSE, FALSE, FALSE, FALSE)), row.names = c(NA, \n  . -45L), version = 2L, class = c(\"rlang_trace\", \"rlib_trace\", \"tbl\", \n  . \"data.frame\")), parent = NULL, i = \"diag\", subscript_type = \"character\", \n  .     names = \"age\", subscript_action = NULL, subscript_arg = \"diag\", \n  .     rlang = list(inherit = TRUE), call = mc_cv(data = data, prop = prop, \n  .         strata = {\n  .             {\n  .                 strata\n  .             }\n  .         }, breaks = breaks, pool = pool, times = 1, ...)), class = c(\"vctrs_error_subscript_oob\", \n  . \"vctrs_error_subscript\", \"rlang_error\", \"error\", \"condition\")))",
      "24. handlers[[1L]](cnd)",
      "25. cnd_signal(cnd)",
      "26. signal_abort(cnd)"
     ]
    }
   ],
   "source": [
    "#splitting dataframe into training, testing datasets\n",
    "hungarian_split <- initial_split(hungarian_clean, prop = 3/4, strata = diag)\n",
    "\n",
    "hungarian_training <- training(hungarian_split)\n",
    "hungarian_testing <- testing(hungarian_split)\n",
    "\n",
    "head(hungarian_training)\n",
    "\n",
    "nrow(hungarian_training)\n",
    "nrow(hungarian_testing)"
   ]
  },
  {
   "cell_type": "markdown",
   "id": "4bd2554f-d52d-4e98-83ea-b2ef14bb2092",
   "metadata": {},
   "source": [
    "figure 3\n",
    "\n",
    "In the above code, we split the data into a training set to build our model on, and a testing set to, well, test it. Using initial_split allowed us to shuffle the data before splitting (removing bias and order) and stratify the data by diag so that an equal proportion of each is in each set.\n",
    "\n",
    "There are 220 rows (75%) in the training set and 74 rows (25%) in the testing set. This gives us enough data to train the classifier on, as well as enough to test it on later. This means our classifier is going to be reliable.\n",
    "\n",
    "Moving forward, we will only use the training set until the very end."
   ]
  },
  {
   "cell_type": "markdown",
   "id": "29793b3a-f329-4b9b-ab21-2ebd2383b653",
   "metadata": {},
   "source": [
    "### Summarizing the data"
   ]
  },
  {
   "cell_type": "markdown",
   "id": "d3e9d491-17a3-47ef-bfd1-c40240b5dc27",
   "metadata": {},
   "source": [
    "Before we get to work, we need to make sure that the two classes actually have different averages in serum cholersterol and maximum heart rate achieved.\n",
    "\n",
    "To do this, we will use group_by and summarize to create a table with the minimum, maximum and mean of each of our predictors."
   ]
  },
  {
   "cell_type": "code",
   "execution_count": 32,
   "id": "9aa1f895-37e4-49c8-9730-120d0aa806e3",
   "metadata": {
    "tags": []
   },
   "outputs": [
    {
     "name": "stderr",
     "output_type": "stream",
     "text": [
      "Warning message:\n",
      "“\u001b[1m\u001b[22mThere were 4 warnings in `summarize()`.\n",
      "The first warning was:\n",
      "\u001b[1m\u001b[22m\u001b[36mℹ\u001b[39m In argument: `mean_chol = mean(chol)`.\n",
      "\u001b[36mℹ\u001b[39m In group 1: `diag = FALSE`.\n",
      "Caused by warning in `mean.default()`:\n",
      "\u001b[33m!\u001b[39m argument is not numeric or logical: returning NA\n",
      "\u001b[1m\u001b[22m\u001b[36mℹ\u001b[39m Run `dplyr::last_dplyr_warnings()` to see the 3 remaining warnings.”\n"
     ]
    },
    {
     "data": {
      "text/html": [
       "<table class=\"dataframe\">\n",
       "<caption>A tibble: 2 × 4</caption>\n",
       "<thead>\n",
       "\t<tr><th scope=col>diag</th><th scope=col>mean_chol</th><th scope=col>mean_thalach</th><th scope=col>n_of_patients</th></tr>\n",
       "\t<tr><th scope=col>&lt;fct&gt;</th><th scope=col>&lt;dbl&gt;</th><th scope=col>&lt;dbl&gt;</th><th scope=col>&lt;int&gt;</th></tr>\n",
       "</thead>\n",
       "<tbody>\n",
       "\t<tr><td>FALSE</td><td>NA</td><td>NA</td><td>141</td></tr>\n",
       "\t<tr><td>TRUE </td><td>NA</td><td>NA</td><td> 79</td></tr>\n",
       "</tbody>\n",
       "</table>\n"
      ],
      "text/latex": [
       "A tibble: 2 × 4\n",
       "\\begin{tabular}{llll}\n",
       " diag & mean\\_chol & mean\\_thalach & n\\_of\\_patients\\\\\n",
       " <fct> & <dbl> & <dbl> & <int>\\\\\n",
       "\\hline\n",
       "\t FALSE & NA & NA & 141\\\\\n",
       "\t TRUE  & NA & NA &  79\\\\\n",
       "\\end{tabular}\n"
      ],
      "text/markdown": [
       "\n",
       "A tibble: 2 × 4\n",
       "\n",
       "| diag &lt;fct&gt; | mean_chol &lt;dbl&gt; | mean_thalach &lt;dbl&gt; | n_of_patients &lt;int&gt; |\n",
       "|---|---|---|---|\n",
       "| FALSE | NA | NA | 141 |\n",
       "| TRUE  | NA | NA |  79 |\n",
       "\n"
      ],
      "text/plain": [
       "  diag  mean_chol mean_thalach n_of_patients\n",
       "1 FALSE NA        NA           141          \n",
       "2 TRUE  NA        NA            79          "
      ]
     },
     "metadata": {},
     "output_type": "display_data"
    }
   ],
   "source": [
    "#summarizing to get min, max, mean of each predictor + total no. of rows per class\n",
    "hungarian_summary <- hungarian_training %>%\n",
    "                    group_by(diag) %>%\n",
    "                    summarize(mean_chol = mean(chol), \n",
    "                              mean_thalach = mean(thalach),\n",
    "                              n_of_patients = n())\n",
    "\n",
    "hungarian_summary"
   ]
  },
  {
   "cell_type": "markdown",
   "id": "f50c26f8-e5c4-4c46-b6e9-613fa836aab2",
   "metadata": {},
   "source": [
    "figure 4\n",
    "\n",
    "To summarize our data, we grouped by diag then summarized for the minimum, maximum and mean of chol and thalach.\n",
    "\n",
    "We can see that patients with heart disease tend to have higher cholesterol and lower maximum heart rates. Therefore, these trends are what we expect our classifier to predict diagnoses using later. We can also see that the number of TRUE and FALSE diagnoses are roughly balanced in the training set, which means our classifier is unlikely to be biased."
   ]
  },
  {
   "cell_type": "code",
   "execution_count": null,
   "id": "984a6e74-adb2-4058-952b-5aeb5311901e",
   "metadata": {},
   "outputs": [],
   "source": []
  }
 ],
 "metadata": {
  "kernelspec": {
   "display_name": "R",
   "language": "R",
   "name": "ir"
  },
  "language_info": {
   "codemirror_mode": "r",
   "file_extension": ".r",
   "mimetype": "text/x-r-source",
   "name": "R",
   "pygments_lexer": "r",
   "version": "4.2.2"
  },
  "widgets": {
   "application/vnd.jupyter.widget-state+json": {
    "state": {},
    "version_major": 2,
    "version_minor": 0
   }
  }
 },
 "nbformat": 4,
 "nbformat_minor": 5
}
