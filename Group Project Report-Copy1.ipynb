{
 "cells": [
  {
   "cell_type": "markdown",
   "id": "1d4306fd-3465-40e0-8d17-0f4f332e0587",
   "metadata": {},
   "source": [
    "# **Project Report**"
   ]
  },
  {
   "cell_type": "markdown",
   "id": "3f4d1811-944c-423a-b4f3-faf2378be21c",
   "metadata": {},
   "source": [
    "# **SERUM CHOLESTROL AND MAXIMUM HEART RATE ACHIEVED TO DIAGNOSE HEART DISEASE PATIENTS FROM HUNGARY**\n",
    "\n",
    "Aryan Jain, Vibhav "
   ]
  },
  {
   "cell_type": "markdown",
   "id": "14fab048-b878-4e5f-a53f-13e67e7d5826",
   "metadata": {},
   "source": [
    "## INTRODUCTION"
   ]
  },
  {
   "cell_type": "markdown",
   "id": "cc6fc719-81b5-48ad-8cee-3f5a4f45a7d3",
   "metadata": {},
   "source": [
    "Cardiovascular disease encompasses a spectrum of cardiac conditions originating from malfunctions within the cardiac and vascular systems. Among these, coronary artery disease (CAD) manifests when the arteries responsible for supplying blood to the heart undergo a narrowing process. Numerous risk factors contribute to the predisposition for this malady, including elevated cholesterol levels and the maximum heart rate attained during physiological exertion.\n",
    "\n",
    "Elevated cholesterol levels precipitate the accumulation of lipid deposits within the vasculature, impeding the smooth flow of blood through the arteries. The rupture of these deposits may culminate in the formation of a thrombus, thereby instigating severe cardiovascular events such as myocardial infarction or stroke. Notably, individuals afflicted by heart disease may experience a notable reduction in their maximum heart rate, as indicated by medical insights provided by WebMD in 2002.\n",
    "\n",
    "In light of these considerations, the pertinent query arises: can the likelihood of an individual being afflicted by heart disease be ascertained based on an analysis of serum cholesterol levels and the maximum heart rate achieved? To address this question, we propose the utilization of a k-nearest neighbors (KNN) classifier algorithm, an analytical tool with demonstrated efficacy in pattern recognition and classification tasks. By employing this algorithm, we aim to discern discernible patterns and relationships between the aforementioned physiological parameters and the presence of heart disease in a new patient."
   ]
  },
  {
   "cell_type": "markdown",
   "id": "5459dc14-a8c6-4cfd-add2-1cfade13a79c",
   "metadata": {},
   "source": [
    "Our study involves the utilization of the \"processed.hungarian.data\" dataset extracted from the Heart Disease Database for the predictive assessment of heart disease presence in patients from Cleveland. The dataset comprises several pertinent variables, and our focus is on utilizing the variables \"chol\" (serum cholesterol level) and \"thalach\" (maximum heart rate achieved) as predictive features.\n",
    "\n",
    "The specific columns within the dataset are defined as follows:\n",
    "\n",
    "1. **age**: Age of the patient\n",
    "2. **sex**: Gender of the patient (1 = male, 0 = female)\n",
    "3. **cp**: Chest pain type\n",
    "4. **trestbps**: Resting blood pressure in mmHg\n",
    "5. **chol**: Serum cholesterol level in mg/dl\n",
    "6. **fbs**: Fasting blood sugar > 120 mg/dl? (1 = True, 0 = False)\n",
    "7. **restecg**: Resting electrocardiographic results\n",
    "8. **thalach**: Maximum heart rate achieved\n",
    "9. **exang**: Whether exercise induced angina (1 = True, 0 = False)\n",
    "10. **oldpeak**: ST depression induced by exercise, relative to rest\n",
    "11. **slope**: The slope of the peak exercise ST segment (1 = upslope, 2 = flat, 3 = downslope)\n",
    "12. **ca**: Number of major vessels (0-3) colored by fluoroscopy\n",
    "13. **thal**: Thalassemia classification (3 = normal, 6 = fixed defect, 7 = reversible defect)\n",
    "14. **num**: Diagnosis of heart disease (1, 2, 3, 4 = presence, 0 = no presence)\n",
    "\n",
    "For our analysis, we aim to employ the \"chol\" and \"thalach\" variables as predictors to discern the presence or absence of heart disease in patients. This predictive task aligns with the broader objective of leveraging relevant clinical data to enhance diagnostic capabilities and contribute to the advancement of cardiovascular health assessment methodologies."
   ]
  },
  {
   "cell_type": "markdown",
   "id": "0f19f9d5-a7f9-4ee0-9d9d-9e12a74bba60",
   "metadata": {},
   "source": [
    "### Methodology\n",
    "\n",
    "Data Preprocessing and Exploratory Data Analysis\n",
    "\n",
    "We initiated our study by importing relevant libraries and acquiring the \"processed.cleveland.data\" dataset from an authenticated online source. Subsequently, a meticulous data preprocessing phase ensued, wherein we applied systematic cleaning and tidying procedures to render the dataset amenable for analytical endeavors. This process involved judiciously assigning appropriate column types and introducing a new column labeled as \"diag\" to enhance the interpretability of the data.\n",
    "\n",
    "To facilitate subsequent analytical procedures, we judiciously partitioned the dataset into distinct training and testing sets. It is noteworthy that our analytical focus remained exclusively on the training set until the final stages of the investigation.\n",
    "\n",
    "A comprehensive summary of the training set was generated, laying the groundwork for subsequent predictive modeling. This involved the extraction of key insights and patterns from the training data to inform the desired behavior and performance criteria of our classifier.\n",
    "\n",
    "Visualization emerged as an integral component of our exploratory analysis. Specifically, we employed graphical representations to elucidate the intricate relationship between the variables \"thalac\" (maximum heart rate achieved) and \"chol\" (serum cholesterol level). This visual exploration was pivotal in fostering a nuanced understanding of the distributional characteristics inherent in the dataset, thereby contributing to the refinement of subsequent analytical strategies."
   ]
  },
  {
   "cell_type": "markdown",
   "id": "43692b3e-d348-44f9-a599-d7202687fc9b",
   "metadata": {},
   "source": [
    "### Determining Optimal k for K-Nearest Neighbors Classifier\n",
    "\n",
    "The objective of this phase in our investigation is to ascertain the optimal value for the parameter 'k' in the k-nearest neighbors (KNN) algorithm, thereby maximizing the accuracy of our predictive model. The subsequent methodology encapsulates a systematic approach towards achieving this goal.\n",
    "\n",
    "1. **Data Preprocessing and Scaling:**\n",
    "   We commence by applying the recipe function to center and scale the training data, a crucial step in normalizing variables to a standardized range, facilitating robust and unbiased model training.\n",
    "\n",
    "2. **Cross-Validation Technique:**\n",
    "   Cross-validation, an integral aspect of our methodological framework, is executed with ten folds on the training dataset. This deliberate choice of employing ten folds serves to mitigate the influence of the specific observations in the validation set, thus enhancing the robustness and generalizability of our model.\n",
    "\n",
    "3. **K-Nearest Neighbors Model Initialization:**\n",
    "   The KNN model is instantiated with the parameter 'neighbours' set to 'tune()', indicative of a deliberate intention to identify the most optimal value for 'k' through subsequent tuning.\n",
    "\n",
    "4. **Workflow Integration:**\n",
    "   The recipe and the KNN model are seamlessly integrated into a workflow, with the 'tune_grid' function employed to systematically explore a range of 'k' values specified in 'gridvals' during cross-validation.\n",
    "\n",
    "5. **Determining Optimal k:**\n",
    "   The optimal 'k' value is discerned by filtering for accuracy and visualizing the accuracy estimate against the 'k' values through a line plot. This graphical representation serves to elucidate the relationship between 'k' and accuracy, guiding the selection of the most advantageous 'k' value.\n",
    "\n",
    "6. **Model Evaluation and Validation:**\n",
    "   Rigorous evaluation ensues to ensure that the selected 'k' value averts both underfitting and overfitting. Furthermore, a comparative analysis against a majority classifier is conducted to validate the efficacy of our model, affirming its superiority in predictive accuracy.\n",
    "\n",
    "This methodological framework adheres to rigorous standards, leveraging cross-validation and systematic exploration to identify the optimal 'k' for the KNN algorithm, thus enhancing the robustness and reliability of our predictive model."
   ]
  },
  {
   "cell_type": "markdown",
   "id": "53630bd5-955b-413e-90a9-941f24ed415c",
   "metadata": {},
   "source": [
    "### Visualizing our results\n",
    "\n",
    "To visualize our results, we plotted max heart rate on the x-axis and cholesterol levels on the y-axis, using diagnosis to colour the points.\n",
    "\n",
    "To check for over/underfitting, we coloured the background of the graph based on what prediction would be made at every possible point. This also allowed us to quickly identify how the model classified patients, and where the boundaries were."
   ]
  },
  {
   "cell_type": "markdown",
   "id": "ea45fa8a-3db0-4f22-ac74-952f518b5741",
   "metadata": {},
   "source": [
    "### Testing our classifier\n",
    "\n",
    "Made a new model specification for the best  value chosen, combined with the recipe made earlier in a workflow, and fit the classifier to our training set.\n",
    "\n",
    "Used predict on the testing set to evaluate the classifier's predicition accuracy on data it hadn't seen before.\n",
    "\n",
    "Produced a confusion matrix to get a sense of which diagnoses the classifier was more accurate at giving, and what effects that has on real world application.\n",
    "\n",
    "Tested the accuracy of our classifier when given data from Hungary."
   ]
  },
  {
   "cell_type": "markdown",
   "id": "b908e655-b38a-48e8-862d-bc53f9978451",
   "metadata": {},
   "source": [
    "## Preprocessing and exploratory data analysis\n"
   ]
  },
  {
   "cell_type": "code",
   "execution_count": null,
   "id": "684d36c0-d5ee-4b96-a210-50091a793340",
   "metadata": {},
   "outputs": [],
   "source": []
  }
 ],
 "metadata": {
  "kernelspec": {
   "display_name": "R",
   "language": "R",
   "name": "ir"
  },
  "language_info": {
   "codemirror_mode": "r",
   "file_extension": ".r",
   "mimetype": "text/x-r-source",
   "name": "R",
   "pygments_lexer": "r",
   "version": "4.2.2"
  },
  "widgets": {
   "application/vnd.jupyter.widget-state+json": {
    "state": {},
    "version_major": 2,
    "version_minor": 0
   }
  }
 },
 "nbformat": 4,
 "nbformat_minor": 5
}
