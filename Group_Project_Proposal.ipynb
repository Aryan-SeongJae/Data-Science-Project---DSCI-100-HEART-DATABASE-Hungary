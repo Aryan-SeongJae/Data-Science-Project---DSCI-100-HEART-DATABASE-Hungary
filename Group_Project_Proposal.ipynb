# Group Project Proposal
I can see the file and can edit it on git hub but not on Jupiter open which doesn't make sense at all
